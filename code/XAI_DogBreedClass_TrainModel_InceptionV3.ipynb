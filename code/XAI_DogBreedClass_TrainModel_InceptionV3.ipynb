{
  "nbformat": 4,
  "nbformat_minor": 0,
  "metadata": {
    "colab": {
      "provenance": [],
      "machine_shape": "hm",
      "gpuType": "T4"
    },
    "kernelspec": {
      "name": "python3",
      "display_name": "Python 3"
    },
    "language_info": {
      "name": "python"
    },
    "accelerator": "GPU"
  },
  "cells": [
    {
      "cell_type": "code",
      "source": [
        "# grant access to the files"
      ],
      "metadata": {
        "id": "s1Lp9VbE3dYW"
      },
      "execution_count": null,
      "outputs": []
    },
    {
      "cell_type": "code",
      "source": [
        "from google.colab import drive\n",
        "drive.mount('/content/drive')\n",
        "%cd /content/drive/MyDrive/Datasets/"
      ],
      "metadata": {
        "colab": {
          "base_uri": "https://localhost:8080/"
        },
        "id": "QJ5ROcxzYQE8",
        "outputId": "35d6eb6e-fc5c-48e8-d30e-6212134b7192"
      },
      "execution_count": null,
      "outputs": [
        {
          "output_type": "stream",
          "name": "stdout",
          "text": [
            "Mounted at /content/drive\n",
            "/content/drive/MyDrive/Datasets\n"
          ]
        }
      ]
    },
    {
      "cell_type": "code",
      "source": [
        "# import librairies and set random seed for reproductibility"
      ],
      "metadata": {
        "id": "f80A_F5j3mFQ"
      },
      "execution_count": null,
      "outputs": []
    },
    {
      "cell_type": "code",
      "source": [
        "import numpy as np\n",
        "import tensorflow as tf\n",
        "\n",
        "# Reproducability\n",
        "def set_seed(seed=31415):\n",
        "    np.random.seed(seed)\n",
        "    tf.random.set_seed(seed)\n",
        "\n",
        "set_seed()\n",
        "\n",
        "import os\n",
        "import cv2\n",
        "import random\n",
        "\n",
        "from PIL import Image\n",
        "from tqdm import tqdm\n",
        "\n",
        "import numpy as np\n",
        "import pandas as pd\n",
        "import matplotlib.pyplot as plt\n",
        "\n",
        "from sklearn.model_selection import train_test_split"
      ],
      "metadata": {
        "id": "f0bpKpvH3rPX"
      },
      "execution_count": null,
      "outputs": []
    },
    {
      "cell_type": "code",
      "source": [
        "# make sure using full computational capability"
      ],
      "metadata": {
        "id": "TRwUowmBYdct"
      },
      "execution_count": null,
      "outputs": []
    },
    {
      "cell_type": "code",
      "execution_count": null,
      "metadata": {
        "id": "23TOba33L4qf",
        "colab": {
          "base_uri": "https://localhost:8080/"
        },
        "outputId": "0612a116-f758-4173-8402-6af4070dcc11"
      },
      "outputs": [
        {
          "output_type": "stream",
          "name": "stdout",
          "text": [
            "Wed Oct 11 15:42:19 2023       \n",
            "+-----------------------------------------------------------------------------+\n",
            "| NVIDIA-SMI 525.105.17   Driver Version: 525.105.17   CUDA Version: 12.0     |\n",
            "|-------------------------------+----------------------+----------------------+\n",
            "| GPU  Name        Persistence-M| Bus-Id        Disp.A | Volatile Uncorr. ECC |\n",
            "| Fan  Temp  Perf  Pwr:Usage/Cap|         Memory-Usage | GPU-Util  Compute M. |\n",
            "|                               |                      |               MIG M. |\n",
            "|===============================+======================+======================|\n",
            "|   0  Tesla T4            Off  | 00000000:00:04.0 Off |                    0 |\n",
            "| N/A   56C    P8    11W /  70W |      0MiB / 15360MiB |      0%      Default |\n",
            "|                               |                      |                  N/A |\n",
            "+-------------------------------+----------------------+----------------------+\n",
            "                                                                               \n",
            "+-----------------------------------------------------------------------------+\n",
            "| Processes:                                                                  |\n",
            "|  GPU   GI   CI        PID   Type   Process name                  GPU Memory |\n",
            "|        ID   ID                                                   Usage      |\n",
            "|=============================================================================|\n",
            "|  No running processes found                                                 |\n",
            "+-----------------------------------------------------------------------------+\n",
            "####################################################################################################\n",
            "Your runtime has 54.8 gigabytes of available RAM\n",
            "\n",
            "You are using a high-RAM runtime!\n"
          ]
        }
      ],
      "source": [
        "gpu_info = !nvidia-smi\n",
        "gpu_info = '\\n'.join(gpu_info)\n",
        "if gpu_info.find('failed') >= 0:\n",
        "  print('Not connected to a GPU')\n",
        "else:\n",
        "  print(gpu_info)\n",
        "\n",
        "print(100*\"#\")\n",
        "\n",
        "from psutil import virtual_memory\n",
        "ram_gb = virtual_memory().total / 1e9\n",
        "print('Your runtime has {:.1f} gigabytes of available RAM\\n'.format(ram_gb))\n",
        "\n",
        "if ram_gb < 20:\n",
        "  print('Not using a high-RAM runtime')\n",
        "else:\n",
        "  print('You are using a high-RAM runtime!')"
      ]
    },
    {
      "cell_type": "code",
      "source": [
        "# functions to load and preprocess images and labels"
      ],
      "metadata": {
        "id": "vlUVGDXgYhbW"
      },
      "execution_count": null,
      "outputs": []
    },
    {
      "cell_type": "code",
      "source": [
        "def load_images_and_labels(categories, im_ = 1):\n",
        "    img_lst=[]\n",
        "    labels=[]\n",
        "    for category in tqdm(categories):\n",
        "        folder = os.listdir(path+\"/\"+category)\n",
        "        random.seed(20)                        # shuffle because they are organized as coming from list_dir function\n",
        "        folder = random.choices(folder, k = im_) # here limites the number of images per categories\n",
        "        for image_name in folder:\n",
        "            img = cv2.imread(path+\"/\"+category+\"/\"+image_name)\n",
        "            img = cv2.cvtColor(img, cv2.COLOR_BGR2RGB)     # keeps RGB columns\n",
        "            img = cv2.resize(img,(224, 224), interpolation=cv2.INTER_AREA)  # resize image to 224 x 224 because the input image resolution for AlexNet is 227 x 227\n",
        "            img_array = Image.fromarray(img, 'RGB')        #.  'RGB' / 'L'   for color or grey scale\n",
        "            img_lst.append(np.array(img_array))\n",
        "            labels.append(category[10:])\n",
        "    print(\"images loaded\")\n",
        "    return img_lst, labels"
      ],
      "metadata": {
        "id": "Mr_Qyv2-Brog"
      },
      "execution_count": null,
      "outputs": []
    },
    {
      "cell_type": "code",
      "source": [
        "def apply_transfo(images, labels, n_transfo=3, keep_original=False):\n",
        "    img_lst=[]\n",
        "    _labels = []\n",
        "    print(\"expected iterations: \", len(images))\n",
        "    for idx, image in tqdm(enumerate(images)):\n",
        "        if keep_original:\n",
        "            img_lst.append(image)\n",
        "            _labels.append(labels[idx])\n",
        "        for i in range(n_transfo):             # apply n random transformations\n",
        "            augmented_img = datagen.random_transform(image)\n",
        "            img_lst.append(np.array(augmented_img))\n",
        "            _labels.append(labels[idx])\n",
        "    print(\"images transformed\")\n",
        "    return img_lst, _labels\n",
        "\n",
        "from tensorflow.keras.preprocessing.image import ImageDataGenerator\n",
        "datagen = ImageDataGenerator(\n",
        "    rotation_range=30,      # Random rotation (up to 20 degrees)\n",
        "    width_shift_range=0.2,  # Random horizontal shift\n",
        "    height_shift_range=0.2, # Random vertical shift\n",
        "    shear_range=0.2,        # Shear transformation\n",
        "    zoom_range=0.2,         # Random zoom\n",
        "    horizontal_flip=True,   # Random horizontal flip\n",
        "    fill_mode='nearest',     # Fill mode for newly created pixels\n",
        "    data_format='channels_last'\n",
        ")"
      ],
      "metadata": {
        "id": "s6Go76JtdPL0"
      },
      "execution_count": null,
      "outputs": []
    },
    {
      "cell_type": "code",
      "source": [
        "def normalize_(images,labels):\n",
        "  images = np.array(images)\n",
        "  labels = np.array(labels)\n",
        "  #print(\"\\n==> Necessary to normalize images' pixels\")\n",
        "  images = images.astype(np.float32)                      #### not necessary if using image transfo function ?!?\n",
        "  images = images/255\n",
        "  #print(\"\\n\\n*** images format after normalisation ***\\n\\n\",images[1][:2])\n",
        "  print(\"\\nShapes:\\nImages shape \",images.shape,\"Labels shape = \",labels.shape)\n",
        "  return (images,labels)"
      ],
      "metadata": {
        "id": "maasQHa7ERTJ"
      },
      "execution_count": null,
      "outputs": []
    },
    {
      "cell_type": "code",
      "source": [
        "#load data and transform normalize\n",
        "path = \"Images\"\n",
        "categories = os.listdir(path)\n",
        "\n",
        "img_lst, labels = load_images_and_labels(categories, im_=210)\n",
        "images, labels = apply_transfo(img_lst, labels, n_transfo = 3, keep_original=False)\n",
        "images, labels = normalize_(images,labels)"
      ],
      "metadata": {
        "colab": {
          "base_uri": "https://localhost:8080/"
        },
        "id": "qpOlSsZ7Gv6C",
        "outputId": "cd108cc3-d918-4aef-8f4a-5262b37d8c27"
      },
      "execution_count": null,
      "outputs": [
        {
          "output_type": "stream",
          "name": "stderr",
          "text": [
            "100%|██████████| 10/10 [00:59<00:00,  5.91s/it]\n"
          ]
        },
        {
          "output_type": "stream",
          "name": "stdout",
          "text": [
            "images loaded\n",
            "expected iterations:  2100\n"
          ]
        },
        {
          "output_type": "stream",
          "name": "stderr",
          "text": [
            "2100it [00:55, 37.91it/s]\n"
          ]
        },
        {
          "output_type": "stream",
          "name": "stdout",
          "text": [
            "images transformed\n",
            "\n",
            "Shapes:\n",
            "Images shape  (6300, 224, 224, 3) Labels shape =  (6300,)\n"
          ]
        }
      ]
    },
    {
      "cell_type": "code",
      "source": [
        "from sklearn.preprocessing import LabelEncoder\n",
        "label_enc = LabelEncoder()\n",
        "enc_label = label_enc.fit_transform(labels)\n",
        "\n",
        "# split to learn model\n",
        "x_train, x_test, y_train, y_test = train_test_split(images, enc_label, train_size = 0.8, random_state = 42, stratify=labels)\n",
        "\n",
        "x_train = x_train.astype('float32')\n",
        "y_train = y_train.astype('int32')\n",
        "x_test = x_test.astype('float32')\n",
        "y_test = y_test.astype('int32')\n",
        "\n"
      ],
      "metadata": {
        "id": "fBzXpvT4GyI9"
      },
      "execution_count": null,
      "outputs": []
    },
    {
      "cell_type": "code",
      "source": [
        "# build model and look for best hyperparameters"
      ],
      "metadata": {
        "id": "qbAMFl7GYrxi"
      },
      "execution_count": null,
      "outputs": []
    },
    {
      "cell_type": "code",
      "source": [
        "from tensorflow.keras.applications.inception_v3 import InceptionV3\n",
        "from keras.layers import Dense, Flatten, Dropout\n",
        "from keras import Model, regularizers\n",
        "# Charger modèle pré-entraîné sur ImageNet et sans les couches fully-connected\n",
        "def model_builder(hp):\n",
        "    _model = InceptionV3( input_shape=(224, 224, 3), weights='imagenet', include_top=False)\n",
        "    # Définir les paramètres à optimiser\n",
        "    hp_units1 = hp.Int('units1', min_value=128, max_value=512, step=256)\n",
        "    hp_units2 = hp.Int('units2', min_value=128, max_value=512, step=256)\n",
        "    hp_dense1_l1 = hp.Choice('dense1_l1', values=[1e-3,1e-4,1e-5])\n",
        "    hp_dense1_l2 = hp.Choice('dense1_l2', values=[1e-3,1e-4,1e-5])\n",
        "    hp_dropout_1 = hp.Choice('dropout1', values=[0.0, 1e-1, 2e-1])\n",
        "    hp_dense2_l1 = hp.Choice('dense2_l1', values=[1e-3,1e-4,1e-5])\n",
        "    hp_dense2_l2 = hp.Choice('dense2_l2', values=[1e-3,1e-4,1e-5])\n",
        "    hp_dropout_2 = hp.Choice('dropout2', values=[0.0, 1e-1, 2e-1])\n",
        "    hp_learning_rate = hp.Choice('learning_rate', values=[1e-3, 1e-4, 1e-5])\n",
        "    # Récupérer la sortie de ce réseau\n",
        "    x = _model.output\n",
        "    x = Flatten(name=\"flatten\")(x)\n",
        "    x = Dense(units=hp_units1, activation='relu',\n",
        "              kernel_regularizer=regularizers.L1L2(l1=hp_dense1_l1, l2=hp_dense1_l2),\n",
        "              kernel_initializer = tf.keras.initializers.GlorotNormal())(x)\n",
        "    x = Dropout(hp_dropout_1)(x)\n",
        "    x = Dense(units=hp_units2, activation='relu',\n",
        "              kernel_regularizer=regularizers.L1L2(l1=hp_dense2_l1, l2=hp_dense2_l2))(x)\n",
        "    x = Dropout(hp_dropout_2)(x)\n",
        "    # Ajouter la nouvelle couche fully-connected pour la classification à 10 classes\n",
        "    x = Dense(10, activation='softmax')(x)\n",
        "    # Définir le nouveau modèle\n",
        "    _model = Model(inputs=_model.input, outputs=x)\n",
        "\n",
        "    for layer in _model.layers[0:-5]:\n",
        "        layer.trainable = False\n",
        "\n",
        "    _model.compile(optimizer=keras.optimizers.Adam(learning_rate=hp_learning_rate),\n",
        "                loss=keras.losses.SparseCategoricalCrossentropy(from_logits=False),\n",
        "                metrics=['accuracy'])\n",
        "    return _model"
      ],
      "metadata": {
        "id": "fH6bdYQReFzF"
      },
      "execution_count": null,
      "outputs": []
    },
    {
      "cell_type": "code",
      "source": [
        "!pip install keras-tuner"
      ],
      "metadata": {
        "id": "EGraC5zpeaCi",
        "colab": {
          "base_uri": "https://localhost:8080/"
        },
        "outputId": "511f3c7d-fb29-44b9-d68d-c329f44728a5"
      },
      "execution_count": null,
      "outputs": [
        {
          "output_type": "stream",
          "name": "stdout",
          "text": [
            "Collecting keras-tuner\n",
            "  Downloading keras_tuner-1.4.4-py3-none-any.whl (127 kB)\n",
            "\u001b[2K     \u001b[90m━━━━━━━━━━━━━━━━━━━━━━━━━━━━━━━━━━━━━━━\u001b[0m \u001b[32m128.0/128.0 kB\u001b[0m \u001b[31m3.8 MB/s\u001b[0m eta \u001b[36m0:00:00\u001b[0m\n",
            "\u001b[?25hCollecting keras-core (from keras-tuner)\n",
            "  Downloading keras_core-0.1.7-py3-none-any.whl (950 kB)\n",
            "\u001b[2K     \u001b[90m━━━━━━━━━━━━━━━━━━━━━━━━━━━━━━━━━━━━━━\u001b[0m \u001b[32m950.8/950.8 kB\u001b[0m \u001b[31m44.9 MB/s\u001b[0m eta \u001b[36m0:00:00\u001b[0m\n",
            "\u001b[?25hRequirement already satisfied: packaging in /usr/local/lib/python3.10/dist-packages (from keras-tuner) (23.2)\n",
            "Requirement already satisfied: requests in /usr/local/lib/python3.10/dist-packages (from keras-tuner) (2.31.0)\n",
            "Collecting kt-legacy (from keras-tuner)\n",
            "  Downloading kt_legacy-1.0.5-py3-none-any.whl (9.6 kB)\n",
            "Requirement already satisfied: absl-py in /usr/local/lib/python3.10/dist-packages (from keras-core->keras-tuner) (1.4.0)\n",
            "Requirement already satisfied: numpy in /usr/local/lib/python3.10/dist-packages (from keras-core->keras-tuner) (1.23.5)\n",
            "Requirement already satisfied: rich in /usr/local/lib/python3.10/dist-packages (from keras-core->keras-tuner) (13.6.0)\n",
            "Collecting namex (from keras-core->keras-tuner)\n",
            "  Downloading namex-0.0.7-py3-none-any.whl (5.8 kB)\n",
            "Requirement already satisfied: h5py in /usr/local/lib/python3.10/dist-packages (from keras-core->keras-tuner) (3.9.0)\n",
            "Requirement already satisfied: dm-tree in /usr/local/lib/python3.10/dist-packages (from keras-core->keras-tuner) (0.1.8)\n",
            "Requirement already satisfied: charset-normalizer<4,>=2 in /usr/local/lib/python3.10/dist-packages (from requests->keras-tuner) (3.3.0)\n",
            "Requirement already satisfied: idna<4,>=2.5 in /usr/local/lib/python3.10/dist-packages (from requests->keras-tuner) (3.4)\n",
            "Requirement already satisfied: urllib3<3,>=1.21.1 in /usr/local/lib/python3.10/dist-packages (from requests->keras-tuner) (2.0.6)\n",
            "Requirement already satisfied: certifi>=2017.4.17 in /usr/local/lib/python3.10/dist-packages (from requests->keras-tuner) (2023.7.22)\n",
            "Requirement already satisfied: markdown-it-py>=2.2.0 in /usr/local/lib/python3.10/dist-packages (from rich->keras-core->keras-tuner) (3.0.0)\n",
            "Requirement already satisfied: pygments<3.0.0,>=2.13.0 in /usr/local/lib/python3.10/dist-packages (from rich->keras-core->keras-tuner) (2.16.1)\n",
            "Requirement already satisfied: mdurl~=0.1 in /usr/local/lib/python3.10/dist-packages (from markdown-it-py>=2.2.0->rich->keras-core->keras-tuner) (0.1.2)\n",
            "Installing collected packages: namex, kt-legacy, keras-core, keras-tuner\n",
            "Successfully installed keras-core-0.1.7 keras-tuner-1.4.4 kt-legacy-1.0.5 namex-0.0.7\n"
          ]
        }
      ]
    },
    {
      "cell_type": "code",
      "source": [
        "import keras_tuner as kt\n",
        "import keras\n",
        "from tensorflow.keras.layers import Dropout\n",
        "\n",
        "tuner = kt.Hyperband(model_builder,\n",
        "                     objective='val_accuracy',\n",
        "                     max_epochs=1,\n",
        "                     factor=2,\n",
        "                     directory='tuning_dogs',\n",
        "                     project_name='first_trial',\n",
        "                     overwrite = True)                                            # to remove if want to keep saved searches\n",
        "\n",
        "stop_early = tf.keras.callbacks.EarlyStopping(monitor='val_loss',\n",
        "                                              patience=2)\n",
        "\n",
        "tuner.search(x_train, y_train, epochs=1,\n",
        "             validation_split=0.2, callbacks=[stop_early])\n",
        "\n",
        "best_hps=tuner.get_best_hyperparameters(num_trials=1)[0]\n",
        "\n",
        "print(f\"\"\"\n",
        "The hyperparameter search is complete. The optimal number of units in the first densely-connected\n",
        "layer 1 and 2 are {best_hps.get('units1'),best_hps.get('units2')}, the optimal learning rate for the optimizer\n",
        "is {best_hps.get('learning_rate')} and the best dropout ratio for each dense layer is {best_hps.get('dropout1'),best_hps.get('dropout2')}\n",
        "and the best regularisation are {best_hps.get('dense1_l1'),best_hps.get('dense1_l2')} for layer 1 and {best_hps.get('dense2_l1'),best_hps.get('dense2_l2')} for layer 2.\n",
        "\"\"\")"
      ],
      "metadata": {
        "colab": {
          "base_uri": "https://localhost:8080/"
        },
        "id": "d2OBdQUDeZMl",
        "outputId": "ea692faa-2dbf-461c-d5b7-ad1bf859e875"
      },
      "execution_count": null,
      "outputs": [
        {
          "output_type": "stream",
          "name": "stdout",
          "text": [
            "Trial 1 Complete [00h 00m 37s]\n",
            "val_accuracy: 0.8829365372657776\n",
            "\n",
            "Best val_accuracy So Far: 0.8829365372657776\n",
            "Total elapsed time: 00h 00m 37s\n",
            "\n",
            "The hyperparameter search is complete. The optimal number of units in the first densely-connected\n",
            "layer 1 and 2 are (384, 128), the optimal learning rate for the optimizer\n",
            "is 0.001 and the best dropout ratio for each dense layer is (0.0, 0.2)\n",
            "and the best regularisation are (0.0001, 1e-05) for layer 1 and (0.0001, 1e-05) for layer 2.\n",
            "\n"
          ]
        }
      ]
    },
    {
      "cell_type": "code",
      "source": [
        "# train and evaluate best model"
      ],
      "metadata": {
        "id": "qDJ1gbpaZXdN"
      },
      "execution_count": null,
      "outputs": []
    },
    {
      "cell_type": "code",
      "source": [
        "import keras\n",
        "from keras.callbacks import EarlyStopping\n",
        "\n",
        "stop_early = EarlyStopping(monitor='val_loss', patience=3)\n",
        "\n",
        "model = tuner.hypermodel.build(best_hps)#(x)\n",
        "model_info = model.fit(x_train, y_train, batch_size=64, epochs=6, validation_split=0.3, callbacks=[stop_early])\n"
      ],
      "metadata": {
        "colab": {
          "base_uri": "https://localhost:8080/"
        },
        "id": "PZ9aZIILIiQc",
        "outputId": "1ba9c4b9-4621-4460-81a3-12cda7d79070"
      },
      "execution_count": null,
      "outputs": [
        {
          "output_type": "stream",
          "name": "stdout",
          "text": [
            "Epoch 1/6\n",
            "56/56 [==============================] - 23s 287ms/step - loss: 12.5035 - accuracy: 0.7455 - val_loss: 8.6189 - val_accuracy: 0.8519\n",
            "Epoch 2/6\n",
            "56/56 [==============================] - 10s 181ms/step - loss: 6.8077 - accuracy: 0.8557 - val_loss: 5.2156 - val_accuracy: 0.8684\n",
            "Epoch 3/6\n",
            "56/56 [==============================] - 10s 185ms/step - loss: 4.2774 - accuracy: 0.8801 - val_loss: 3.5915 - val_accuracy: 0.8902\n",
            "Epoch 4/6\n",
            "56/56 [==============================] - 10s 188ms/step - loss: 3.9600 - accuracy: 0.8313 - val_loss: 3.2750 - val_accuracy: 0.9015\n",
            "Epoch 5/6\n",
            "56/56 [==============================] - 11s 194ms/step - loss: 2.8090 - accuracy: 0.8985 - val_loss: 2.6101 - val_accuracy: 0.8763\n",
            "Epoch 6/6\n",
            "56/56 [==============================] - 11s 198ms/step - loss: 2.3259 - accuracy: 0.9147 - val_loss: 2.4931 - val_accuracy: 0.8836\n"
          ]
        }
      ]
    },
    {
      "cell_type": "code",
      "source": [
        "import seaborn as sns\n",
        "from sklearn.metrics import confusion_matrix\n",
        "pred = model.predict(x_test)\n",
        "c = confusion_matrix(y_test,np.argmax(pred, axis=1))\n",
        "\n",
        "# **************************************************\n",
        "\n",
        "fig, ax = plt.subplots(figsize=(3.5, 3))\n",
        "sns.heatmap(c, ax=ax, yticklabels=label_enc.inverse_transform(np.arange(10)), annot=True, fmt='.0f', cbar=False)\n",
        "#ax.set_xticklabels(labels_, rotation=45, ha='right')\n",
        "plt.show()\n",
        "\n",
        "# **************************************************\n",
        "\n",
        "from sklearn.metrics import classification_report\n",
        "print(classification_report(y_test,np.argmax(pred, axis=1)))\n",
        "\n",
        "# **************************************************\n",
        "\n",
        "plt.figure(figsize=(4,4))\n",
        "plt.plot(model_info.history['loss'], color='blue', label='Loss')\n",
        "plt.plot(model_info.history['val_loss'], color='cyan', label='Validation Loss')\n",
        "plt.xlabel('Epochs')\n",
        "plt.ylabel('Loss')\n",
        "plt.legend(loc='upper right', bbox_to_anchor=(1,0.8))\n",
        "\n",
        "ax2 = plt.twinx()\n",
        "plt.plot(model_info.history['accuracy'], color='red', label='Accuracy')\n",
        "plt.plot(model_info.history['val_accuracy'], color='pink', label='Validation Accuracy')\n",
        "plt.ylabel('Accuracy')\n",
        "plt.legend(loc='center right')\n",
        "plt.show()"
      ],
      "metadata": {
        "colab": {
          "base_uri": "https://localhost:8080/",
          "height": 993
        },
        "id": "m3bA5CtdLMWt",
        "outputId": "7a6fc262-ce3d-420d-9c11-3c9e15f31ee9"
      },
      "execution_count": null,
      "outputs": [
        {
          "output_type": "stream",
          "name": "stdout",
          "text": [
            "40/40 [==============================] - 5s 100ms/step\n"
          ]
        },
        {
          "output_type": "display_data",
          "data": {
            "text/plain": [
              "<Figure size 350x300 with 1 Axes>"
            ],
            "image/png": "[encoded data removed]"
          },
          "metadata": {}
        },
        {
          "output_type": "stream",
          "name": "stdout",
          "text": [
            "              precision    recall  f1-score   support\n",
            "\n",
            "           0       0.98      0.87      0.92       126\n",
            "           1       0.96      0.98      0.97       126\n",
            "           2       0.98      0.79      0.88       126\n",
            "           3       0.58      0.97      0.72       126\n",
            "           4       0.99      0.87      0.92       126\n",
            "           5       0.94      0.94      0.94       126\n",
            "           6       0.96      0.93      0.94       126\n",
            "           7       0.87      0.96      0.91       126\n",
            "           8       0.88      0.71      0.79       126\n",
            "           9       1.00      0.86      0.92       126\n",
            "\n",
            "    accuracy                           0.89      1260\n",
            "   macro avg       0.91      0.89      0.89      1260\n",
            "weighted avg       0.91      0.89      0.89      1260\n",
            "\n"
          ]
        },
        {
          "output_type": "display_data",
          "data": {
            "text/plain": [
              "<Figure size 400x400 with 2 Axes>"
            ],
            "image/png": "[encoded data removed]"
          },
          "metadata": {}
        }
      ]
    },
    {
      "cell_type": "code",
      "source": [
        "# save model"
      ],
      "metadata": {
        "id": "sEYfvHeQZdAK"
      },
      "execution_count": null,
      "outputs": []
    },
    {
      "cell_type": "code",
      "source": [
        "import pickle\n",
        "\n",
        "\n",
        "!mkdir -p saved_models/inception\n",
        "#pickle.dump(labels, open('breed_names.save', 'wb'))\n",
        "model.save('saved_models/inception/model_inception_final_.keras', overwrite=True, save_format=\"keras\")\n",
        "#model.save_weights('model_vgg16_tuned_weight.keras',overwrite=True\n",
        "\n",
        "\n",
        "# my_model directory\n",
        "%ls saved_models\n",
        "\n",
        "# Contains an assets folder, saved_model.pb, and variables folder.\n",
        "%ls saved_models/inception"
      ],
      "metadata": {
        "id": "Xd3zH5Ce6gRR",
        "colab": {
          "base_uri": "https://localhost:8080/"
        },
        "outputId": "c5f8a9de-e7a1-410d-ebe9-0164c6d9e78a"
      },
      "execution_count": null,
      "outputs": [
        {
          "output_type": "stream",
          "name": "stdout",
          "text": [
            "\u001b[0m\u001b[01;34minception\u001b[0m/  \u001b[01;34mvgg16\u001b[0m/\n",
            "model_inception_final.keras  model_inception_final_.keras\n"
          ]
        }
      ]
    },
    {
      "cell_type": "code",
      "source": [
        "%ls"
      ],
      "metadata": {
        "id": "5-ZFBsdxfy4r",
        "colab": {
          "base_uri": "https://localhost:8080/"
        },
        "outputId": "a4c3655a-4ad6-4930-bcf0-4f5476f156c2"
      },
      "execution_count": null,
      "outputs": [
        {
          "output_type": "stream",
          "name": "stdout",
          "text": [
            "breed_names.save\n",
            "\u001b[0m\u001b[01;34mImages\u001b[0m/\n",
            "label_encoder\n",
            "model_inceptionV3_fine_tuned_210pic_3transf.keras\n",
            "model_vgg16_fine_tuned_10cat_210img_tuned.keras\n",
            "\u001b[01;34msaved_models\u001b[0m/\n",
            "\u001b[01;34mtuning_dogs\u001b[0m/\n"
          ]
        }
      ]
    },
    {
      "cell_type": "code",
      "source": [
        "# make sure model is saved and accurate"
      ],
      "metadata": {
        "id": "w8cNtZfcZgVz"
      },
      "execution_count": null,
      "outputs": []
    },
    {
      "cell_type": "code",
      "source": [
        "from keras import backend as K\n",
        "K.clear_session()"
      ],
      "metadata": {
        "id": "QPq4banFLviv"
      },
      "execution_count": null,
      "outputs": []
    },
    {
      "cell_type": "code",
      "source": [
        "# check that model is really saved\n",
        "\n",
        "new_model = tf.keras.models.load_model('saved_models/inception/model_inception_final.keras')\n",
        "\n",
        "# Check its architecture\n",
        "#new_model.summary()\n"
      ],
      "metadata": {
        "id": "WtBOwOcxl5RC"
      },
      "execution_count": null,
      "outputs": []
    },
    {
      "cell_type": "code",
      "source": [
        "loss, acc = new_model.evaluate(images, enc_label)#, verbose=2)\n",
        "print('Restored model, accuracy: {:5.2f}%'.format(100 * acc))"
      ],
      "metadata": {
        "colab": {
          "base_uri": "https://localhost:8080/"
        },
        "id": "eFdQIhhsZor-",
        "outputId": "77df643e-bbc3-42db-e031-cc137b26cd05"
      },
      "execution_count": null,
      "outputs": [
        {
          "output_type": "stream",
          "name": "stdout",
          "text": [
            "197/197 [==============================] - 18s 79ms/step - loss: 12.0829 - accuracy: 0.9706\n",
            "Restored model, accuracy: 97.06%\n"
          ]
        }
      ]
    }
  ]
}